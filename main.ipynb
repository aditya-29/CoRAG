{
 "cells": [
  {
   "cell_type": "code",
   "execution_count": 2,
   "metadata": {},
   "outputs": [],
   "source": [
    "import pandas as pd\n",
    "import os\n",
    "\n",
    "data_path = \"./corag/data/StructuredRegulatoryDocuments\"\n",
    "\n",
    "if not os.path.exists(data_path):\n",
    "    print(\"Folder not found\")"
   ]
  },
  {
   "cell_type": "markdown",
   "metadata": {},
   "source": [
    "## Rejection Sampling"
   ]
  },
  {
   "cell_type": "code",
   "execution_count": 3,
   "metadata": {},
   "outputs": [
    {
     "data": {
      "text/plain": [
       "'\\nYou are using a search engine to answer the main query by iteratively searching the web. Given the following intermediate queries and answers, generate a new simple follow-up question that can help answer the main query. You may rephrase or decompose the main query when previous answers are not helpful. Ask simple follow-up questions only as the search engine may not understand complex questions.\\n## Previous intermediate queries and answers\\n{intermediate queries and answers}\\n## Task description\\n{task description}\\n## Main query to answer\\n{query}\\nRespond with a simple follow-up question that will help answer the main query, do not explain yourself or output anything else.\\n'"
      ]
     },
     "execution_count": 3,
     "metadata": {},
     "output_type": "execute_result"
    }
   ],
   "source": [
    "from corag.chat import GPT\n",
    "from corag import Prompts\n",
    "\n",
    "\n"
   ]
  },
  {
   "cell_type": "markdown",
   "metadata": {},
   "source": [
    "# hotpot dataset"
   ]
  },
  {
   "cell_type": "code",
   "execution_count": 2,
   "metadata": {},
   "outputs": [
    {
     "name": "stderr",
     "output_type": "stream",
     "text": [
      "Downloading data: 100%|██████████| 566M/566M [00:15<00:00, 37.8MB/s] \n",
      "Downloading data: 100%|██████████| 46.3M/46.3M [00:01<00:00, 40.8MB/s]\n",
      "Generating train split: 100%|██████████| 90447/90447 [00:09<00:00, 9814.72 examples/s] \n",
      "Generating validation split: 100%|██████████| 7405/7405 [00:00<00:00, 9868.81 examples/s] "
     ]
    },
    {
     "name": "stdout",
     "output_type": "stream",
     "text": [
      "loaded dataset successfully\n"
     ]
    },
    {
     "name": "stderr",
     "output_type": "stream",
     "text": [
      "\n"
     ]
    }
   ],
   "source": [
    "from datasets import load_dataset\n",
    "\n",
    "dataset = load_dataset(\"hotpot_qa\", \"distractor\", trust_remote_code=True)\n",
    "print(\"loaded dataset successfully\")\n"
   ]
  },
  {
   "cell_type": "code",
   "execution_count": 3,
   "metadata": {},
   "outputs": [
    {
     "name": "stdout",
     "output_type": "stream",
     "text": [
      "DatasetDict({\n",
      "    train: Dataset({\n",
      "        features: ['id', 'question', 'answer', 'type', 'level', 'supporting_facts', 'context'],\n",
      "        num_rows: 90447\n",
      "    })\n",
      "    validation: Dataset({\n",
      "        features: ['id', 'question', 'answer', 'type', 'level', 'supporting_facts', 'context'],\n",
      "        num_rows: 7405\n",
      "    })\n",
      "})\n"
     ]
    }
   ],
   "source": [
    "print(dataset)"
   ]
  },
  {
   "cell_type": "code",
   "execution_count": 6,
   "metadata": {},
   "outputs": [
    {
     "data": {
      "text/plain": [
       "{'id': '5a7a06935542990198eaf050',\n",
       " 'question': \"Which magazine was started first Arthur's Magazine or First for Women?\",\n",
       " 'answer': \"Arthur's Magazine\",\n",
       " 'type': 'comparison',\n",
       " 'level': 'medium',\n",
       " 'supporting_facts': {'title': [\"Arthur's Magazine\", 'First for Women'],\n",
       "  'sent_id': [0, 0]},\n",
       " 'context': {'title': ['Radio City (Indian radio station)',\n",
       "   'History of Albanian football',\n",
       "   'Echosmith',\n",
       "   \"Women's colleges in the Southern United States\",\n",
       "   'First Arthur County Courthouse and Jail',\n",
       "   \"Arthur's Magazine\",\n",
       "   '2014–15 Ukrainian Hockey Championship',\n",
       "   'First for Women',\n",
       "   'Freeway Complex Fire',\n",
       "   'William Rast'],\n",
       "  'sentences': [[\"Radio City is India's first private FM radio station and was started on 3 July 2001.\",\n",
       "    ' It broadcasts on 91.1 (earlier 91.0 in most cities) megahertz from Mumbai (where it was started in 2004), Bengaluru (started first in 2001), Lucknow and New Delhi (since 2003).',\n",
       "    ' It plays Hindi, English and regional songs.',\n",
       "    ' It was launched in Hyderabad in March 2006, in Chennai on 7 July 2006 and in Visakhapatnam October 2007.',\n",
       "    ' Radio City recently forayed into New Media in May 2008 with the launch of a music portal - PlanetRadiocity.com that offers music related news, videos, songs, and other music-related features.',\n",
       "    ' The Radio station currently plays a mix of Hindi and Regional music.',\n",
       "    ' Abraham Thomas is the CEO of the company.'],\n",
       "   ['Football in Albania existed before the Albanian Football Federation (FSHF) was created.',\n",
       "    \" This was evidenced by the team's registration at the Balkan Cup tournament during 1929-1931, which started in 1929 (although Albania eventually had pressure from the teams because of competition, competition started first and was strong enough in the duels) .\",\n",
       "    ' Albanian National Team was founded on June 6, 1930, but Albania had to wait 16 years to play its first international match and then defeated Yugoslavia in 1946.',\n",
       "    ' In 1932, Albania joined FIFA (during the 12–16 June convention ) And in 1954 she was one of the founding members of UEFA.'],\n",
       "   ['Echosmith is an American, Corporate indie pop band formed in February 2009 in Chino, California.',\n",
       "    ' Originally formed as a quartet of siblings, the band currently consists of Sydney, Noah and Graham Sierota, following the departure of eldest sibling Jamie in late 2016.',\n",
       "    ' Echosmith started first as \"Ready Set Go!\"',\n",
       "    ' until they signed to Warner Bros.',\n",
       "    ' Records in May 2012.',\n",
       "    ' They are best known for their hit song \"Cool Kids\", which reached number 13 on the \"Billboard\" Hot 100 and was certified double platinum by the RIAA with over 1,200,000 sales in the United States and also double platinum by ARIA in Australia.',\n",
       "    ' The song was Warner Bros.',\n",
       "    \" Records' fifth-biggest-selling-digital song of 2014, with 1.3 million downloads sold.\",\n",
       "    ' The band\\'s debut album, \"Talking Dreams\", was released on October 8, 2013.'],\n",
       "   [\"Women's colleges in the Southern United States refers to undergraduate, bachelor's degree–granting institutions, often liberal arts colleges, whose student populations consist exclusively or almost exclusively of women, located in the Southern United States.\",\n",
       "    \" Many started first as girls' seminaries or academies.\",\n",
       "    ' Salem College is the oldest female educational institution in the South and Wesleyan College is the first that was established specifically as a college for women.',\n",
       "    ' Some schools, such as Mary Baldwin University and Salem College, offer coeducational courses at the graduate level.'],\n",
       "   ['The First Arthur County Courthouse and Jail, was perhaps the smallest court house in the United States, and serves now as a museum.'],\n",
       "   [\"Arthur's Magazine (1844–1846) was an American literary periodical published in Philadelphia in the 19th century.\",\n",
       "    ' Edited by T.S. Arthur, it featured work by Edgar A. Poe, J.H. Ingraham, Sarah Josepha Hale, Thomas G. Spear, and others.',\n",
       "    ' In May 1846 it was merged into \"Godey\\'s Lady\\'s Book\".'],\n",
       "   ['The 2014–15 Ukrainian Hockey Championship was the 23rd season of the Ukrainian Hockey Championship.',\n",
       "    ' Only four teams participated in the league this season, because of the instability in Ukraine and that most of the clubs had economical issues.',\n",
       "    ' Generals Kiev was the only team that participated in the league the previous season, and the season started first after the year-end of 2014.',\n",
       "    ' The regular season included just 12 rounds, where all the teams went to the semifinals.',\n",
       "    ' In the final, ATEK Kiev defeated the regular season winner HK Kremenchuk.'],\n",
       "   [\"First for Women is a woman's magazine published by Bauer Media Group in the USA.\",\n",
       "    ' The magazine was started in 1989.',\n",
       "    ' It is based in Englewood Cliffs, New Jersey.',\n",
       "    ' In 2011 the circulation of the magazine was 1,310,696 copies.'],\n",
       "   ['The Freeway Complex Fire was a 2008 wildfire in the Santa Ana Canyon area of Orange County, California.',\n",
       "    ' The fire started as two separate fires on November 15, 2008.',\n",
       "    ' The \"Freeway Fire\" started first shortly after 9am with the \"Landfill Fire\" igniting approximately 2 hours later.',\n",
       "    ' These two separate fires merged a day later and ultimately destroyed 314 residences in Anaheim Hills and Yorba Linda.'],\n",
       "   ['William Rast is an American clothing line founded by Justin Timberlake and Trace Ayala.',\n",
       "    ' It is most known for their premium jeans.',\n",
       "    ' On October 17, 2006, Justin Timberlake and Trace Ayala put on their first fashion show to launch their new William Rast clothing line.',\n",
       "    ' The label also produces other clothing items such as jackets and tops.',\n",
       "    ' The company started first as a denim line, later evolving into a men’s and women’s clothing line.']]}}"
      ]
     },
     "execution_count": 6,
     "metadata": {},
     "output_type": "execute_result"
    }
   ],
   "source": [
    "dataset[\"train\"][0]"
   ]
  },
  {
   "cell_type": "code",
   "execution_count": null,
   "metadata": {},
   "outputs": [],
   "source": []
  }
 ],
 "metadata": {
  "kernelspec": {
   "display_name": ".env",
   "language": "python",
   "name": "python3"
  },
  "language_info": {
   "codemirror_mode": {
    "name": "ipython",
    "version": 3
   },
   "file_extension": ".py",
   "mimetype": "text/x-python",
   "name": "python",
   "nbconvert_exporter": "python",
   "pygments_lexer": "ipython3",
   "version": "3.10.6"
  }
 },
 "nbformat": 4,
 "nbformat_minor": 2
}
